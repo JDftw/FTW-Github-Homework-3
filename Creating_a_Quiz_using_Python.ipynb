{
  "nbformat": 4,
  "nbformat_minor": 0,
  "metadata": {
    "colab": {
      "name": "Creating a Quiz using Python",
      "provenance": [],
      "collapsed_sections": [],
      "authorship_tag": "ABX9TyNzw1wQl/avXCUduvoJGfPz",
      "include_colab_link": true
    },
    "kernelspec": {
      "name": "python3",
      "display_name": "Python 3"
    }
  },
  "cells": [
    {
      "cell_type": "markdown",
      "metadata": {
        "id": "view-in-github",
        "colab_type": "text"
      },
      "source": [
        "<a href=\"https://colab.research.google.com/github/JDftw/FTW4-Github-Homework-3/blob/master/Creating_a_Quiz_using_Python.ipynb\" target=\"_parent\"><img src=\"https://colab.research.google.com/assets/colab-badge.svg\" alt=\"Open In Colab\"/></a>"
      ]
    },
    {
      "cell_type": "markdown",
      "metadata": {
        "id": "CMmX7YXCRO9s",
        "colab_type": "text"
      },
      "source": [
        "The Philippine Archipelago (Quiz)\n",
        "=="
      ]
    },
    {
      "cell_type": "markdown",
      "metadata": {
        "id": "hzezGJvqROwa",
        "colab_type": "text"
      },
      "source": [
        "How well do you know the Philippine Archipelago? Take this quiz to find out."
      ]
    },
    {
      "cell_type": "code",
      "metadata": {
        "id": "NfUdQNVSAW2V",
        "colab_type": "code",
        "colab": {
          "base_uri": "https://localhost:8080/",
          "height": 583
        },
        "outputId": "fe676cac-6724-47d9-e942-b3ea26453ef6"
      },
      "source": [
        "def main():\n",
        "    \n",
        "    questions={'What is the capital of the Republic of the Philippines? ':'Manila',\n",
        "               '\\nWhat is the \"Summer Capital\" of the Philippines? ':'Baguio City', \n",
        "               '\\nWhat is the oldest city of the Philippines? ':'Cebu', \n",
        "               '\\nWhat is the largest island of the Philippine Archipelago? ':'Luzon',\n",
        "               '\\nWhat is the longest mountain range in the Country? ':'Sierra Madre', \n",
        "               '\\nWhere is the highest peak in the Philippines? ':'Mt. Apo', \n",
        "               '\\nWhat is the longest river in the Philippines? ':'Cagayan River', \n",
        "               '\\nWhat is the provincial capital of Isabela? ':'Ilagan', \n",
        "               '\\nThe Philippines is composed of approximately how many islands? ':'7500', \n",
        "               '\\nWhat is the largest province in the Philippines in terms of land area? ':'Palawan'}\n",
        "    print(\"Goodluck! ^_^\\n\")\n",
        "    name = input(\"Please enter your name: \").title()\n",
        "    print(\"\\nThank you for your time {0}, you scored {1} out of {2}.\".format(name, quiz(questions), len(questions)))\n",
        " \n",
        "def quiz(questions):\n",
        "    score = 0\n",
        "    for q,a in questions.items():\n",
        "        if input(q).lower() == a.lower():\n",
        "            score += 1\n",
        "            print(\"Correct.\")\n",
        "    \n",
        "        else:\n",
        "            print(\"Sorry, correct answer is \\\"{}\\\".\".format(a))\n",
        "\n",
        "    return score    \n",
        "\n",
        "if __name__ == \"__main__\":\n",
        "    main()"
      ],
      "execution_count": 39,
      "outputs": [
        {
          "output_type": "stream",
          "text": [
            "Goodluck! ^_^\n",
            "\n",
            "Please enter your name: Julie\n",
            "What is the capital of the Republic of the Philippines? Manila\n",
            "Correct.\n",
            "\n",
            "What is the \"Summer Capital\" of the Philippines? Baguio City\n",
            "Correct.\n",
            "\n",
            "What is the oldest city of the Philippines? Cebu\n",
            "Correct.\n",
            "\n",
            "What is the largest island of the Philippine Archipelago? Luzon\n",
            "Correct.\n",
            "\n",
            "What is the longest mountain range in the Country? Sierra Madre\n",
            "Correct.\n",
            "\n",
            "Where is the highest peak in the Philippines? Mt. Apo\n",
            "Correct.\n",
            "\n",
            "What is the longest river in the Philippines? Cagayan River\n",
            "Correct.\n",
            "\n",
            "What is the provincial capital of Isabela? Ilagan\n",
            "Correct.\n",
            "\n",
            "The Philippines is composed of approximately how many islands? 7500\n",
            "Correct.\n",
            "\n",
            "What is the largest province in the Philippines in terms of land area? Palawan\n",
            "Correct.\n",
            "\n",
            "Thank you for your time Julie, you scored 10 out of 10.\n"
          ],
          "name": "stdout"
        }
      ]
    }
  ]
}